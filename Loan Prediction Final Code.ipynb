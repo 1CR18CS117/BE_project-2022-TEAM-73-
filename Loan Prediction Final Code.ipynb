{
 "cells": [
  {
   "cell_type": "code",
   "execution_count": 1,
   "metadata": {},
   "outputs": [
    {
     "name": "stdout",
     "output_type": "stream",
     "text": [
      "Libraries updated\n"
     ]
    }
   ],
   "source": [
    "\n",
    "import numpy as np\n",
    "import pandas as pd\n",
    "from matplotlib import pyplot as plt\n",
    "import seaborn as sns\n",
    "\n",
    "from sklearn.model_selection import train_test_split\n",
    "from sklearn.linear_model import LogisticRegression\n",
    "from sklearn.ensemble import RandomForestClassifier\n",
    "from sklearn.neighbors import KNeighborsClassifier\n",
    "from sklearn import svm\n",
    "from sklearn.metrics import accuracy_score\n",
    "\n",
    "\n",
    "seed = 7\n",
    "print(\"Libraries updated\")"
   ]
  },
  {
   "cell_type": "code",
   "execution_count": 2,
   "metadata": {},
   "outputs": [
    {
     "name": "stdout",
     "output_type": "stream",
     "text": [
      "Number of columns in the dataframe: 13\n",
      "Number of rows in the dataframe: 614\n",
      "\n"
     ]
    }
   ],
   "source": [
    "# Load data set containing all the data from csv\n",
    "df = pd.read_csv('Loan_Predict_Dataset.csv')\n",
    "# Describe the data, Shape and how many rows and columns\n",
    "print('Number of columns in the dataframe: %i' % (df.shape[1]))\n",
    "print('Number of rows in the dataframe: %i\\n' % (df.shape[0]))"
   ]
  },
  {
   "cell_type": "code",
   "execution_count": 3,
   "metadata": {},
   "outputs": [
    {
     "name": "stdout",
     "output_type": "stream",
     "text": [
      "['Loan_ID', 'Gender', 'Married', 'Dependents', 'Education', 'Self_Employed', 'ApplicantIncome', 'CoapplicantIncome', 'LoanAmount', 'Loan_Amount_Term', 'Credit_History', 'Property_Area', 'Loan_Status']\n",
      "Y    422\n",
      "N    192\n",
      "Name: Loan_Status, dtype: int64 \n",
      "\n"
     ]
    }
   ],
   "source": [
    "print(list(df.columns))\n",
    "print(df['Loan_Status'].value_counts(), '\\n')"
   ]
  },
  {
   "cell_type": "code",
   "execution_count": 4,
   "metadata": {},
   "outputs": [
    {
     "name": "stdout",
     "output_type": "stream",
     "text": [
      "    Loan_ID Gender Married  Dependents     Education Self_Employed  \\\n",
      "0  LP001002   Male      No         0.0      Graduate            No   \n",
      "1  LP001003   Male     Yes         1.0      Graduate            No   \n",
      "2  LP001005   Male     Yes         0.0      Graduate           Yes   \n",
      "3  LP001006   Male     Yes         0.0  Not Graduate            No   \n",
      "4  LP001008   Male      No         0.0      Graduate            No   \n",
      "\n",
      "   ApplicantIncome  CoapplicantIncome  LoanAmount  Loan_Amount_Term  \\\n",
      "0             5849                0.0         NaN             360.0   \n",
      "1             4583             1508.0       128.0             360.0   \n",
      "2             3000                0.0        66.0             360.0   \n",
      "3             2583             2358.0       120.0             360.0   \n",
      "4             6000                0.0       141.0             360.0   \n",
      "\n",
      "   Credit_History Property_Area Loan_Status  \n",
      "0             1.0         Urban           Y  \n",
      "1             1.0         Rural           N  \n",
      "2             1.0         Urban           Y  \n",
      "3             1.0         Urban           Y  \n",
      "4             1.0         Urban           Y   \n",
      "\n"
     ]
    }
   ],
   "source": [
    "print( df.head(5), '\\n' )\n"
   ]
  },
  {
   "cell_type": "code",
   "execution_count": 5,
   "metadata": {},
   "outputs": [
    {
     "name": "stdout",
     "output_type": "stream",
     "text": [
      "       Dependents  ApplicantIncome  CoapplicantIncome  LoanAmount  \\\n",
      "count  599.000000       614.000000         614.000000  592.000000   \n",
      "mean     0.762938      5403.459283        1621.245798  146.412162   \n",
      "std      1.015216      6109.041673        2926.248369   85.587325   \n",
      "min      0.000000       150.000000           0.000000    9.000000   \n",
      "25%      0.000000      2877.500000           0.000000  100.000000   \n",
      "50%      0.000000      3812.500000        1188.500000  128.000000   \n",
      "75%      2.000000      5795.000000        2297.250000  168.000000   \n",
      "max      3.000000     81000.000000       41667.000000  700.000000   \n",
      "\n",
      "       Loan_Amount_Term  Credit_History  \n",
      "count         600.00000      564.000000  \n",
      "mean          342.00000        0.842199  \n",
      "std            65.12041        0.364878  \n",
      "min            12.00000        0.000000  \n",
      "25%           360.00000        1.000000  \n",
      "50%           360.00000        1.000000  \n",
      "75%           360.00000        1.000000  \n",
      "max           480.00000        1.000000   \n",
      "\n"
     ]
    }
   ],
   "source": [
    "print( df.describe(), '\\n' )"
   ]
  },
  {
   "cell_type": "code",
   "execution_count": 6,
   "metadata": {},
   "outputs": [
    {
     "name": "stdout",
     "output_type": "stream",
     "text": [
      "Loan_ID               0\n",
      "Gender               13\n",
      "Married               3\n",
      "Dependents           15\n",
      "Education             0\n",
      "Self_Employed        32\n",
      "ApplicantIncome       0\n",
      "CoapplicantIncome     0\n",
      "LoanAmount           22\n",
      "Loan_Amount_Term     14\n",
      "Credit_History       50\n",
      "Property_Area         0\n",
      "Loan_Status           0\n",
      "dtype: int64 \n",
      "\n"
     ]
    }
   ],
   "source": [
    "print(df.isnull().sum(), '\\n')\n",
    "\n",
    "\n",
    "# pandas DataFrame: replace nan values with average of columns\n",
    "df['LoanAmount'] = df['LoanAmount'].fillna(df['LoanAmount'].mean())\n",
    "df['Credit_History'] = df['Credit_History'].fillna(df['Credit_History'].median())"
   ]
  },
  {
   "cell_type": "code",
   "execution_count": 7,
   "metadata": {},
   "outputs": [
    {
     "name": "stdout",
     "output_type": "stream",
     "text": [
      "Loan_ID               0\n",
      "Gender               13\n",
      "Married               3\n",
      "Dependents           15\n",
      "Education             0\n",
      "Self_Employed        32\n",
      "ApplicantIncome       0\n",
      "CoapplicantIncome     0\n",
      "LoanAmount            0\n",
      "Loan_Amount_Term     14\n",
      "Credit_History        0\n",
      "Property_Area         0\n",
      "Loan_Status           0\n",
      "dtype: int64 \n",
      "\n",
      "Number of columns in the dataframe: 13\n",
      "Number of rows in the dataframe: 614\n",
      "\n"
     ]
    }
   ],
   "source": [
    "print(df.isnull().sum(), '\\n')\n",
    "print('Number of columns in the dataframe: %i' % (df.shape[1]))\n",
    "print('Number of rows in the dataframe: %i\\n' % (df.shape[0]))"
   ]
  },
  {
   "cell_type": "code",
   "execution_count": 8,
   "metadata": {},
   "outputs": [
    {
     "name": "stdout",
     "output_type": "stream",
     "text": [
      "Loan_ID              0\n",
      "Gender               0\n",
      "Married              0\n",
      "Dependents           0\n",
      "Education            0\n",
      "Self_Employed        0\n",
      "ApplicantIncome      0\n",
      "CoapplicantIncome    0\n",
      "LoanAmount           0\n",
      "Loan_Amount_Term     0\n",
      "Credit_History       0\n",
      "Property_Area        0\n",
      "Loan_Status          0\n",
      "dtype: int64 \n",
      "\n",
      "Number of columns in the dataframe: 13\n",
      "Number of rows in the dataframe: 542\n",
      "\n",
      "Preprocessing Stage, Visualization Level 1 Done\n"
     ]
    }
   ],
   "source": [
    "df.dropna(inplace=True)\n",
    "print(df.isnull().sum(), '\\n')\n",
    "print('Number of columns in the dataframe: %i' % (df.shape[1]))\n",
    "print('Number of rows in the dataframe: %i\\n' % (df.shape[0]))\n",
    "\n",
    "print(\"Preprocessing Stage, Visualization Level 1 Done\")"
   ]
  },
  {
   "cell_type": "code",
   "execution_count": 9,
   "metadata": {},
   "outputs": [
    {
     "name": "stdout",
     "output_type": "stream",
     "text": [
      "Loan_Status    N    Y\n",
      "Gender               \n",
      "Female        33   65\n",
      "Male         133  311\n"
     ]
    },
    {
     "data": {
      "image/png": "[encoded data removed]",
      "text/plain": [
       "<Figure size 432x288 with 1 Axes>"
      ]
     },
     "metadata": {
      "needs_background": "light"
     },
     "output_type": "display_data"
    }
   ],
   "source": [
    "sns.countplot(df['Gender'],hue=df['Loan_Status'],palette='Set1')\n",
    "print(pd.crosstab(df['Gender'],df['Loan_Status']))\n",
    "plt.savefig('Gender vs Loan Status')\n",
    "plt.show()"
   ]
  },
  {
   "cell_type": "code",
   "execution_count": 10,
   "metadata": {},
   "outputs": [
    {
     "name": "stdout",
     "output_type": "stream",
     "text": [
      "Married   No  Yes\n",
      "Gender           \n",
      "Female    69   29\n",
      "Male     118  326\n"
     ]
    },
    {
     "data": {
      "image/png": "[encoded data removed]",
      "text/plain": [
       "<Figure size 432x288 with 1 Axes>"
      ]
     },
     "metadata": {
      "needs_background": "light"
     },
     "output_type": "display_data"
    }
   ],
   "source": [
    "sns.countplot(df['Gender'],hue=df['Married'],palette='Set1')\n",
    "print(pd.crosstab(df['Gender'],df['Married']))\n",
    "plt.savefig('Gender vs Married')\n",
    "plt.show()"
   ]
  },
  {
   "cell_type": "code",
   "execution_count": 11,
   "metadata": {},
   "outputs": [
    {
     "name": "stdout",
     "output_type": "stream",
     "text": [
      "Self_Employed   No  Yes\n",
      "Gender                 \n",
      "Female          83   15\n",
      "Male           384   60\n"
     ]
    },
    {
     "data": {
      "image/png": "[encoded data removed]",
      "text/plain": [
       "<Figure size 432x288 with 1 Axes>"
      ]
     },
     "metadata": {
      "needs_background": "light"
     },
     "output_type": "display_data"
    }
   ],
   "source": [
    "sns.countplot(df['Gender'],hue=df['Self_Employed'],palette='Set1')\n",
    "print(pd.crosstab(df['Gender'],df['Self_Employed']))\n",
    "plt.savefig('Gender vs Self Employed')\n",
    "plt.show()"
   ]
  },
  {
   "cell_type": "code",
   "execution_count": 12,
   "metadata": {},
   "outputs": [
    {
     "name": "stdout",
     "output_type": "stream",
     "text": [
      "Property_Area  Rural  Semiurban  Urban\n",
      "Gender                                \n",
      "Female            23         49     26\n",
      "Male             136        160    148\n"
     ]
    },
    {
     "data": {
      "image/png": "[encoded data removed]",
      "text/plain": [
       "<Figure size 432x288 with 1 Axes>"
      ]
     },
     "metadata": {
      "needs_background": "light"
     },
     "output_type": "display_data"
    }
   ],
   "source": [
    "sns.countplot(df['Gender'],hue=df['Property_Area'],palette='Set1')\n",
    "print(pd.crosstab(df['Gender'],df['Property_Area']))\n",
    "plt.savefig('Gender vs Property Area')\n",
    "plt.show()\n"
   ]
  },
  {
   "cell_type": "code",
   "execution_count": 13,
   "metadata": {},
   "outputs": [
    {
     "name": "stdout",
     "output_type": "stream",
     "text": [
      "Y    376\n",
      "N    166\n",
      "Name: Loan_Status, dtype: int64 \n",
      "\n",
      "1    376\n",
      "0    166\n",
      "Name: Loan_Status, dtype: int64 \n",
      "\n"
     ]
    }
   ],
   "source": [
    "\n",
    "print(df['Loan_Status'].value_counts(), '\\n' )\n",
    "df['Loan_Status'].replace('Y',1,inplace=True)\n",
    "df['Loan_Status'].replace('N',0,inplace=True)\n",
    "print(df['Loan_Status'].value_counts(), '\\n' )"
   ]
  },
  {
   "cell_type": "code",
   "execution_count": 14,
   "metadata": {},
   "outputs": [
    {
     "name": "stdout",
     "output_type": "stream",
     "text": [
      "Male      444\n",
      "Female     98\n",
      "Name: Gender, dtype: int64 \n",
      "\n",
      "1    444\n",
      "0     98\n",
      "Name: Gender, dtype: int64 \n",
      "\n"
     ]
    }
   ],
   "source": [
    "\n",
    "print(df['Gender'].value_counts(), '\\n' )\n",
    "df.Gender=df.Gender.map({'Male':1,'Female':0})\n",
    "print(df['Gender'].value_counts(), '\\n' )\n",
    "\n"
   ]
  },
  {
   "cell_type": "code",
   "execution_count": 15,
   "metadata": {},
   "outputs": [
    {
     "name": "stdout",
     "output_type": "stream",
     "text": [
      "Yes    355\n",
      "No     187\n",
      "Name: Married, dtype: int64 \n",
      "\n",
      "1    355\n",
      "0    187\n",
      "Name: Married, dtype: int64 \n",
      "\n"
     ]
    }
   ],
   "source": [
    "\n",
    "print(df['Married'].value_counts(), '\\n' )\n",
    "df.Married=df.Married.map({'Yes':1,'No':0})\n",
    "print(df['Married'].value_counts(), '\\n' )\n",
    "\n"
   ]
  },
  {
   "cell_type": "code",
   "execution_count": 16,
   "metadata": {},
   "outputs": [
    {
     "name": "stdout",
     "output_type": "stream",
     "text": [
      "Graduate        425\n",
      "Not Graduate    117\n",
      "Name: Education, dtype: int64 \n",
      "\n",
      "1    425\n",
      "0    117\n",
      "Name: Education, dtype: int64 \n",
      "\n"
     ]
    }
   ],
   "source": [
    "\n",
    "print(df['Education'].value_counts(), '\\n' )\n",
    "df.Education=df.Education.map({'Graduate':1,'Not Graduate':0})\n",
    "print(df['Education'].value_counts(), '\\n' )\n",
    "\n"
   ]
  },
  {
   "cell_type": "code",
   "execution_count": 17,
   "metadata": {},
   "outputs": [
    {
     "name": "stdout",
     "output_type": "stream",
     "text": [
      "No     467\n",
      "Yes     75\n",
      "Name: Self_Employed, dtype: int64 \n",
      "\n",
      "0    467\n",
      "1     75\n",
      "Name: Self_Employed, dtype: int64 \n",
      "\n"
     ]
    }
   ],
   "source": [
    "\n",
    "print(df['Self_Employed'].value_counts(), '\\n' )\n",
    "df.Self_Employed=df.Self_Employed.map({'Yes':1,'No':0})\n",
    "print(df['Self_Employed'].value_counts(), '\\n' )"
   ]
  },
  {
   "cell_type": "code",
   "execution_count": 18,
   "metadata": {},
   "outputs": [
    {
     "name": "stdout",
     "output_type": "stream",
     "text": [
      "Semiurban    209\n",
      "Urban        174\n",
      "Rural        159\n",
      "Name: Property_Area, dtype: int64 \n",
      "\n",
      "1    209\n",
      "2    174\n",
      "0    159\n",
      "Name: Property_Area, dtype: int64 \n",
      "\n"
     ]
    }
   ],
   "source": [
    "print(df['Property_Area'].value_counts(), '\\n' )\n",
    "df.Property_Area=df.Property_Area.map({'Urban':2,'Rural':0,'Semiurban':1})\n",
    "print(df['Property_Area'].value_counts(), '\\n' )"
   ]
  },
  {
   "cell_type": "code",
   "execution_count": 19,
   "metadata": {},
   "outputs": [
    {
     "name": "stdout",
     "output_type": "stream",
     "text": [
      "    Loan_ID  Gender  Married  Dependents  Education  Self_Employed  \\\n",
      "0  LP001002       1        0         0.0          1              0   \n",
      "1  LP001003       1        1         1.0          1              0   \n",
      "2  LP001005       1        1         0.0          1              1   \n",
      "3  LP001006       1        1         0.0          0              0   \n",
      "4  LP001008       1        0         0.0          1              0   \n",
      "\n",
      "   ApplicantIncome  CoapplicantIncome  LoanAmount  Loan_Amount_Term  \\\n",
      "0             5849                0.0  146.412162             360.0   \n",
      "1             4583             1508.0  128.000000             360.0   \n",
      "2             3000                0.0   66.000000             360.0   \n",
      "3             2583             2358.0  120.000000             360.0   \n",
      "4             6000                0.0  141.000000             360.0   \n",
      "\n",
      "   Credit_History  Property_Area  Loan_Status  \n",
      "0             1.0              2            1  \n",
      "1             1.0              0            0  \n",
      "2             1.0              2            1  \n",
      "3             1.0              2            1  \n",
      "4             1.0              2            1   \n",
      "\n",
      "Preprocessing Stage, Visualization Level 2 Done\n"
     ]
    }
   ],
   "source": [
    "print( df.head(5), '\\n' )\n",
    "\n",
    "print(\"Preprocessing Stage, Visualization Level 2 Done\")"
   ]
  },
  {
   "cell_type": "code",
   "execution_count": 20,
   "metadata": {},
   "outputs": [
    {
     "name": "stdout",
     "output_type": "stream",
     "text": [
      "\n",
      " train_X = \n",
      "      Gender  Married  Dependents  Education  Self_Employed  ApplicantIncome  \\\n",
      "521       1        0         0.0          1              0             2500   \n",
      "532       1        0         2.0          1              0             3588   \n",
      "31        1        0         0.0          1              0             3167   \n",
      "160       1        1         0.0          0              0             1863   \n",
      "393       1        1         2.0          0              0             1993   \n",
      "..      ...      ...         ...        ...            ...              ...   \n",
      "243       1        1         2.0          1              1             6250   \n",
      "566       1        0         0.0          1              0             3333   \n",
      "609       0        0         0.0          1              0             2900   \n",
      "222       1        0         0.0          1              0             2971   \n",
      "200       1        1         1.0          0              0             2600   \n",
      "\n",
      "     CoapplicantIncome  LoanAmount  Loan_Amount_Term  Credit_History  \\\n",
      "521                0.0        55.0             360.0             1.0   \n",
      "532                0.0       110.0             360.0             0.0   \n",
      "31                 0.0        74.0             360.0             1.0   \n",
      "160             1041.0        98.0             360.0             1.0   \n",
      "393             1625.0       113.0             180.0             1.0   \n",
      "..                 ...         ...               ...             ...   \n",
      "243             1300.0       108.0             360.0             1.0   \n",
      "566                0.0        70.0             360.0             1.0   \n",
      "609                0.0        71.0             360.0             1.0   \n",
      "222             2791.0       144.0             360.0             1.0   \n",
      "200             2500.0        90.0             360.0             1.0   \n",
      "\n",
      "     Property_Area  \n",
      "521              1  \n",
      "532              0  \n",
      "31               2  \n",
      "160              1  \n",
      "393              1  \n",
      "..             ...  \n",
      "243              0  \n",
      "566              2  \n",
      "609              0  \n",
      "222              1  \n",
      "200              1  \n",
      "\n",
      "[487 rows x 11 columns]\n",
      "\n",
      " test_X = \n",
      "      Gender  Married  Dependents  Education  Self_Employed  ApplicantIncome  \\\n",
      "382       0        0         0.0          1              0             6000   \n",
      "250       1        1         0.0          0              0             1668   \n",
      "313       1        1         2.0          1              1             5746   \n",
      "252       1        0         0.0          0              1             2583   \n",
      "533       1        0         1.0          1              0            11250   \n",
      "3         1        1         0.0          0              0             2583   \n",
      "59        1        1         2.0          0              0             3357   \n",
      "235       1        1         1.0          1              0             5500   \n",
      "248       1        1         1.0          1              0             2882   \n",
      "166       0        1         0.0          1              0             4583   \n",
      "219       0        1         2.0          1              0             4283   \n",
      "433       1        1         0.0          1              0             2425   \n",
      "269       0        0         1.0          1              0             2876   \n",
      "603       1        0         0.0          1              0             3676   \n",
      "64        0        0         0.0          1              0             4166   \n",
      "134       1        0         0.0          1              0             4895   \n",
      "60        1        1         0.0          1              0             2500   \n",
      "321       1        1         3.0          1              0             4342   \n",
      "337       1        1         2.0          1              1             2500   \n",
      "272       1        0         0.0          1              0             2833   \n",
      "128       1        1         1.0          1              1            10513   \n",
      "289       1        0         0.0          1              0             9508   \n",
      "317       1        1         0.0          1              0             2058   \n",
      "157       1        1         1.0          1              0             9538   \n",
      "118       1        1         0.0          1              0             5568   \n",
      "575       1        1         2.0          1              0             3159   \n",
      "462       1        1         0.0          1              0             3015   \n",
      "75        1        0         0.0          1              0             3750   \n",
      "178       1        1         1.0          1              0             3750   \n",
      "459       1        1         0.0          1              0             8334   \n",
      "92        1        1         2.0          0              0             3273   \n",
      "593       1        1         0.0          1              0             3859   \n",
      "276       1        1         0.0          1              0             3993   \n",
      "310       0        0         0.0          1              0             2917   \n",
      "483       1        1         0.0          1              0            10833   \n",
      "27        1        1         2.0          0              0             4226   \n",
      "80        0        0         0.0          1              0             3846   \n",
      "567       1        1         3.0          1              0             3400   \n",
      "523       1        1         2.0          1              1             7948   \n",
      "368       1        1         1.0          1              0             6325   \n",
      "377       1        1         0.0          1              0             4310   \n",
      "14        1        1         2.0          1              0             1299   \n",
      "512       1        1         2.0          1              0             3283   \n",
      "137       1        1         2.0          1              1             3316   \n",
      "595       1        0         0.0          0              0             3833   \n",
      "39        1        0         0.0          0              0             3748   \n",
      "101       1        0         0.0          1              0             4843   \n",
      "471       1        1         1.0          0              0             2653   \n",
      "486       1        0         2.0          1              0             3547   \n",
      "326       1        0         0.0          1              0             4917   \n",
      "501       0        0         0.0          1              0             3159   \n",
      "543       1        1         1.0          0              0             2239   \n",
      "370       0        0         0.0          1              1            15759   \n",
      "213       1        1         3.0          0              1             5703   \n",
      "551       1        1         1.0          0              0             2492   \n",
      "\n",
      "     CoapplicantIncome  LoanAmount  Loan_Amount_Term  Credit_History  \\\n",
      "382                0.0  156.000000             360.0             1.0   \n",
      "250             3890.0  201.000000             360.0             0.0   \n",
      "313                0.0  144.000000              84.0             1.0   \n",
      "252             2167.0  104.000000             360.0             1.0   \n",
      "533                0.0  196.000000             360.0             1.0   \n",
      "3               2358.0  120.000000             360.0             1.0   \n",
      "59              2859.0  144.000000             360.0             1.0   \n",
      "235             1260.0  170.000000             360.0             1.0   \n",
      "248             1843.0  123.000000             480.0             1.0   \n",
      "166                0.0  112.000000             360.0             1.0   \n",
      "219             2383.0  127.000000             360.0             1.0   \n",
      "433             2340.0  143.000000             360.0             1.0   \n",
      "269             1560.0   90.000000             360.0             1.0   \n",
      "603             4301.0  172.000000             360.0             1.0   \n",
      "64                 0.0  116.000000             360.0             0.0   \n",
      "134                0.0  102.000000             360.0             1.0   \n",
      "60              3796.0  120.000000             360.0             1.0   \n",
      "321              189.0  124.000000             360.0             1.0   \n",
      "337             4600.0  176.000000             360.0             1.0   \n",
      "272             1857.0  126.000000             360.0             1.0   \n",
      "128             3850.0  160.000000             180.0             0.0   \n",
      "289                0.0  187.000000             360.0             1.0   \n",
      "317             2134.0   88.000000             360.0             1.0   \n",
      "157                0.0  187.000000             360.0             1.0   \n",
      "118             2142.0  175.000000             360.0             1.0   \n",
      "575              461.0  108.000000              84.0             1.0   \n",
      "462             2188.0  153.000000             360.0             1.0   \n",
      "75                 0.0  113.000000             480.0             1.0   \n",
      "178                0.0  116.000000             360.0             1.0   \n",
      "459                0.0  160.000000             360.0             1.0   \n",
      "92              1820.0   81.000000             360.0             1.0   \n",
      "593             3300.0  142.000000             180.0             1.0   \n",
      "276             3274.0  207.000000             360.0             1.0   \n",
      "310                0.0   84.000000             360.0             1.0   \n",
      "483                0.0  234.000000             360.0             1.0   \n",
      "27              1040.0  110.000000             360.0             1.0   \n",
      "80                 0.0  111.000000             360.0             1.0   \n",
      "567             2500.0  123.000000             360.0             0.0   \n",
      "523             7166.0  480.000000             360.0             1.0   \n",
      "368                0.0  175.000000             360.0             1.0   \n",
      "377                0.0  130.000000             360.0             1.0   \n",
      "14              1086.0   17.000000             120.0             1.0   \n",
      "512             2035.0  148.000000             360.0             1.0   \n",
      "137             3500.0   88.000000             360.0             1.0   \n",
      "595                0.0  110.000000             360.0             1.0   \n",
      "39              1668.0  110.000000             360.0             1.0   \n",
      "101             3806.0  151.000000             360.0             1.0   \n",
      "471             1500.0  113.000000             180.0             0.0   \n",
      "486                0.0   80.000000             360.0             0.0   \n",
      "326                0.0  130.000000             360.0             0.0   \n",
      "501                0.0  100.000000             360.0             1.0   \n",
      "543             2524.0  128.000000             360.0             1.0   \n",
      "370                0.0   55.000000             360.0             1.0   \n",
      "213                0.0  130.000000             360.0             1.0   \n",
      "551             2375.0  146.412162             360.0             1.0   \n",
      "\n",
      "     Property_Area  \n",
      "382              2  \n",
      "250              1  \n",
      "313              0  \n",
      "252              0  \n",
      "533              1  \n",
      "3                2  \n",
      "59               2  \n",
      "235              0  \n",
      "248              1  \n",
      "166              0  \n",
      "219              1  \n",
      "433              1  \n",
      "269              2  \n",
      "603              0  \n",
      "64               1  \n",
      "134              1  \n",
      "60               2  \n",
      "321              1  \n",
      "337              0  \n",
      "272              0  \n",
      "128              2  \n",
      "289              0  \n",
      "317              2  \n",
      "157              2  \n",
      "118              0  \n",
      "575              2  \n",
      "462              0  \n",
      "75               2  \n",
      "178              1  \n",
      "459              1  \n",
      "92               2  \n",
      "593              0  \n",
      "276              1  \n",
      "310              1  \n",
      "483              1  \n",
      "27               2  \n",
      "80               1  \n",
      "567              0  \n",
      "523              0  \n",
      "368              1  \n",
      "377              1  \n",
      "14               2  \n",
      "512              2  \n",
      "137              2  \n",
      "595              0  \n",
      "39               1  \n",
      "101              1  \n",
      "471              0  \n",
      "486              0  \n",
      "326              0  \n",
      "501              1  \n",
      "543              2  \n",
      "370              1  \n",
      "213              0  \n",
      "551              0  \n",
      "\n",
      " train_y = \n",
      " 521    1\n",
      "532    0\n",
      "31     0\n",
      "160    1\n",
      "393    1\n",
      "      ..\n",
      "243    1\n",
      "566    1\n",
      "609    1\n",
      "222    1\n",
      "200    1\n",
      "Name: Loan_Status, Length: 487, dtype: int64\n",
      "\n",
      " test_y = \n",
      " 382    1\n",
      "250    0\n",
      "313    1\n",
      "252    1\n",
      "533    0\n",
      "3      1\n",
      "59     1\n",
      "235    1\n",
      "248    1\n",
      "166    0\n",
      "219    1\n",
      "433    1\n",
      "269    1\n",
      "603    1\n",
      "64     0\n",
      "134    1\n",
      "60     1\n",
      "321    1\n",
      "337    1\n",
      "272    1\n",
      "128    0\n",
      "289    1\n",
      "317    1\n",
      "157    1\n",
      "118    0\n",
      "575    1\n",
      "462    1\n",
      "75     0\n",
      "178    1\n",
      "459    0\n",
      "92     1\n",
      "593    1\n",
      "276    1\n",
      "310    1\n",
      "483    1\n",
      "27     1\n",
      "80     1\n",
      "567    0\n",
      "523    1\n",
      "368    1\n",
      "377    1\n",
      "14     1\n",
      "512    1\n",
      "137    1\n",
      "595    1\n",
      "39     1\n",
      "101    1\n",
      "471    0\n",
      "486    0\n",
      "326    1\n",
      "501    1\n",
      "543    1\n",
      "370    1\n",
      "213    1\n",
      "551    1\n",
      "Name: Loan_Status, dtype: int64\n"
     ]
    }
   ],
   "source": [
    "X = df.iloc[:,1:12]\n",
    "#print(\"X = \",'\\n', X)\n",
    "y = df.iloc[:,-1]\n",
    "#print('\\n', Y)\n",
    "\n",
    "\n",
    "train_X,test_X,train_y,test_y = train_test_split(\n",
    "    X,y,test_size=0.1, random_state=seed )\n",
    "\n",
    "\n",
    "print('\\n train_X = \\n', train_X)\n",
    "print('\\n test_X = \\n', test_X)\n",
    "print('\\n train_y = \\n', train_y)\n",
    "print('\\n test_y = \\n', test_y)\n"
   ]
  },
  {
   "cell_type": "code",
   "execution_count": 21,
   "metadata": {},
   "outputs": [
    {
     "name": "stdout",
     "output_type": "stream",
     "text": [
      "\n",
      " final_test = \n",
      "      Gender  Married  Dependents  Education  Self_Employed  ApplicantIncome  \\\n",
      "382       0        0         0.0          1              0             6000   \n",
      "250       1        1         0.0          0              0             1668   \n",
      "313       1        1         2.0          1              1             5746   \n",
      "252       1        0         0.0          0              1             2583   \n",
      "533       1        0         1.0          1              0            11250   \n",
      "3         1        1         0.0          0              0             2583   \n",
      "59        1        1         2.0          0              0             3357   \n",
      "235       1        1         1.0          1              0             5500   \n",
      "248       1        1         1.0          1              0             2882   \n",
      "166       0        1         0.0          1              0             4583   \n",
      "\n",
      "     CoapplicantIncome  LoanAmount  Loan_Amount_Term  Credit_History  \\\n",
      "382                0.0       156.0             360.0             1.0   \n",
      "250             3890.0       201.0             360.0             0.0   \n",
      "313                0.0       144.0              84.0             1.0   \n",
      "252             2167.0       104.0             360.0             1.0   \n",
      "533                0.0       196.0             360.0             1.0   \n",
      "3               2358.0       120.0             360.0             1.0   \n",
      "59              2859.0       144.0             360.0             1.0   \n",
      "235             1260.0       170.0             360.0             1.0   \n",
      "248             1843.0       123.0             480.0             1.0   \n",
      "166                0.0       112.0             360.0             1.0   \n",
      "\n",
      "     Property_Area  \n",
      "382              2  \n",
      "250              1  \n",
      "313              0  \n",
      "252              0  \n",
      "533              1  \n",
      "3                2  \n",
      "59               2  \n",
      "235              0  \n",
      "248              1  \n",
      "166              0  \n",
      "\n",
      " Machine Learning Model Build \n",
      "\n"
     ]
    }
   ],
   "source": [
    "final_test = test_X.iloc[0:10]\n",
    "print('\\n final_test = \\n', final_test)\n",
    "\n",
    "\n",
    "print(\"\\n Machine Learning Model Build \\n\")"
   ]
  },
  {
   "cell_type": "code",
   "execution_count": 22,
   "metadata": {},
   "outputs": [
    {
     "name": "stdout",
     "output_type": "stream",
     "text": [
      "accuracy_score 0.8909090909090909 \n",
      "\n",
      "Output Prediction =  [1 0 1 1 1 1 1 1 1 1] \n",
      "\n",
      "\n",
      " 382    1\n",
      "250    0\n",
      "313    1\n",
      "252    1\n",
      "533    0\n",
      "3      1\n",
      "59     1\n",
      "235    1\n",
      "248    1\n",
      "166    0\n",
      "Name: Loan_Status, dtype: int64\n"
     ]
    },
    {
     "name": "stderr",
     "output_type": "stream",
     "text": [
      "C:\\Users\\User\\Anaconda3\\lib\\site-packages\\sklearn\\linear_model\\logistic.py:432: FutureWarning: Default solver will be changed to 'lbfgs' in 0.22. Specify a solver to silence this warning.\n",
      "  FutureWarning)\n"
     ]
    }
   ],
   "source": [
    "models=[]\n",
    "#models.append((\"logreg\",LogisticRegression()))\n",
    "#Logistic Regression Algorithm\n",
    "\n",
    "LR = LogisticRegression()\n",
    "LR.fit(train_X,train_y)\n",
    "pred = LR.predict(test_X)\n",
    "\n",
    "print(\"accuracy_score\", accuracy_score(test_y,pred), '\\n')\n",
    "\n",
    "\n",
    "outp = LR.predict(final_test)\n",
    "print( \"Output Prediction = \", outp, '\\n' )\n",
    "print('\\n', test_y[:10])\n",
    "\n"
   ]
  },
  {
   "cell_type": "code",
   "execution_count": 23,
   "metadata": {},
   "outputs": [
    {
     "name": "stdout",
     "output_type": "stream",
     "text": [
      "\n",
      " 382    1\n",
      "250    0\n",
      "313    1\n",
      "252    1\n",
      "533    0\n",
      "3      1\n",
      "59     1\n",
      "235    1\n",
      "248    1\n",
      "166    0\n",
      "Name: Loan_Status, dtype: int64 \n",
      "\n",
      "RF Alg Accuracy 0.9272727272727272 \n",
      "\n",
      "Output Prediction RF =  [1 0 1 1 0 1 1 1 1 1] \n",
      "\n"
     ]
    }
   ],
   "source": [
    "##Random Forest\n",
    "RF = RandomForestClassifier(n_estimators = 100) \n",
    "RF.fit(train_X,train_y)\n",
    "RF_Prediction = RF.predict(test_X)\n",
    "outp2 = RF.predict(final_test)\n",
    "print('\\n', test_y[:10], '\\n')\n",
    "print(\"RF Alg Accuracy\", accuracy_score(test_y,RF_Prediction), '\\n')\n",
    "print( \"Output Prediction RF = \", outp2, '\\n' )\n",
    "\n"
   ]
  },
  {
   "cell_type": "code",
   "execution_count": 24,
   "metadata": {},
   "outputs": [
    {
     "name": "stdout",
     "output_type": "stream",
     "text": [
      "\n",
      " 382    1\n",
      "250    0\n",
      "313    1\n",
      "252    1\n",
      "533    0\n",
      "3      1\n",
      "59     1\n",
      "235    1\n",
      "248    1\n",
      "166    0\n",
      "Name: Loan_Status, dtype: int64\n",
      "KNN Alg Accuracy 74 Percent\n",
      "Output Prediction KNN =  [1 1 1 1 1 1 1 1 1 0] \n",
      "\n"
     ]
    }
   ],
   "source": [
    "#KNN\n",
    "KNN_Model = KNeighborsClassifier()\n",
    "KNN_Model.fit(train_X,train_y)\n",
    "KNN_Prediction = KNN_Model.predict(test_X)\n",
    "outp3 = KNN_Model.predict(final_test)\n",
    "print('\\n', test_y[:10])\n",
    "print(\"KNN Alg Accuracy\", int(accuracy_score(test_y,KNN_Prediction) *100), \"Percent\" )\n",
    "print( \"Output Prediction KNN = \", outp3, '\\n' )\n",
    "\n"
   ]
  },
  {
   "cell_type": "code",
   "execution_count": 25,
   "metadata": {},
   "outputs": [
    {
     "name": "stdout",
     "output_type": "stream",
     "text": [
      "\n",
      " 382    1\n",
      "250    0\n",
      "313    1\n",
      "252    1\n",
      "533    0\n",
      "3      1\n",
      "59     1\n",
      "235    1\n",
      "248    1\n",
      "166    0\n",
      "Name: Loan_Status, dtype: int64\n",
      "SVM Alg Accuracy 80 Percent\n",
      "Output Prediction SVM =  [1 1 1 1 1 1 1 1 1 1] \n",
      "\n"
     ]
    },
    {
     "name": "stderr",
     "output_type": "stream",
     "text": [
      "C:\\Users\\User\\Anaconda3\\lib\\site-packages\\sklearn\\svm\\base.py:193: FutureWarning: The default value of gamma will change from 'auto' to 'scale' in version 0.22 to account better for unscaled features. Set gamma explicitly to 'auto' or 'scale' to avoid this warning.\n",
      "  \"avoid this warning.\", FutureWarning)\n"
     ]
    }
   ],
   "source": [
    "#SVM\n",
    "SVM_Model = svm.SVC()\n",
    "SVM_Model.fit(train_X,train_y)\n",
    "SVM_Prediction = SVM_Model.predict(test_X)\n",
    "outp4 = SVM_Model.predict(final_test)\n",
    "print('\\n', test_y[:10])\n",
    "print(\"SVM Alg Accuracy\", int(accuracy_score(test_y,SVM_Prediction) *100), \"Percent\" )\n",
    "print( \"Output Prediction SVM = \", outp4, '\\n' )\n"
   ]
  },
  {
   "cell_type": "code",
   "execution_count": 26,
   "metadata": {},
   "outputs": [
    {
     "name": "stdout",
     "output_type": "stream",
     "text": [
      "Project End\n"
     ]
    }
   ],
   "source": [
    "print(\"Project End\")"
   ]
  }
 ],
 "metadata": {
  "kernelspec": {
   "display_name": "Python 3",
   "language": "python",
   "name": "python3"
  },
  "language_info": {
   "codemirror_mode": {
    "name": "ipython",
    "version": 3
   },
   "file_extension": ".py",
   "mimetype": "text/x-python",
   "name": "python",
   "nbconvert_exporter": "python",
   "pygments_lexer": "ipython3",
   "version": "3.7.4"
  }
 },
 "nbformat": 4,
 "nbformat_minor": 2
}
